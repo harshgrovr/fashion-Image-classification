{
 "cells": [
  {
   "cell_type": "markdown",
   "id": "8048fb55",
   "metadata": {},
   "source": [
    "# Data Pre-processing"
   ]
  },
  {
   "cell_type": "markdown",
   "id": "295a6bef",
   "metadata": {},
   "source": [
    "###  Dataset: https://www.kaggle.com/c/dog-breed-identification/data?select=labels.csv\n",
    "\n",
    "### Rescaling the dataset to 80,80 grayscale Images"
   ]
  },
  {
   "cell_type": "code",
   "execution_count": null,
   "id": "f2a57b0f",
   "metadata": {},
   "outputs": [],
   "source": [
    "https://www.kaggle.com/c/dog-breed-identification/data?select=labels.csv"
   ]
  },
  {
   "cell_type": "code",
   "execution_count": 18,
   "id": "52c89059",
   "metadata": {},
   "outputs": [],
   "source": [
    "from PIL import Image\n",
    "import os, sys\n",
    "import random\n",
    "import numpy as np\n",
    "from numpy import asarray\n",
    "from numpy import savez_compressed\n",
    "from numpy import load\n",
    "import pandas as pd"
   ]
  },
  {
   "cell_type": "code",
   "execution_count": 19,
   "id": "85e0742c",
   "metadata": {},
   "outputs": [],
   "source": [
    "\n",
    "\n",
    "path = \"./train\"\n",
    "dirs = os.listdir( path )\n",
    "\n",
    "def resize():\n",
    "    for item in dirs:\n",
    "        item_path = os.path.join(path, item)\n",
    "        if os.path.isfile(item_path):\n",
    "            im = Image.open(item_path).convert('L')\n",
    "            f, e = os.path.splitext(item_path)            \n",
    "            imResize = im.resize((80,80), Image.ANTIALIAS)\n",
    "            imResize.save(f + '.jpg', 'JPEG', quality=100)\n",
    "\n",
    "resize()"
   ]
  },
  {
   "cell_type": "code",
   "execution_count": 20,
   "id": "06d00b0f",
   "metadata": {},
   "outputs": [
    {
     "data": {
      "image/png": "[encoded data removed]",
      "text/plain": [
       "<PIL.JpegImagePlugin.JpegImageFile image mode=L size=80x80 at 0x7EFCB32E6A00>"
      ]
     },
     "execution_count": 20,
     "metadata": {},
     "output_type": "execute_result"
    }
   ],
   "source": [
    "Image.open('./train/a00af55eaca223de36018867b5cf729f.jpg')"
   ]
  },
  {
   "cell_type": "markdown",
   "id": "a579d2f4",
   "metadata": {},
   "source": [
    "### Save Numpy array as npz"
   ]
  },
  {
   "cell_type": "code",
   "execution_count": 21,
   "id": "a807292b",
   "metadata": {},
   "outputs": [],
   "source": [
    "# save numpy array as npz file\n",
    "\n",
    "path = \"./train\"\n",
    "dirs = os.listdir( path )\n",
    "arr = []\n",
    "\n",
    "for item in dirs:\n",
    "    item_path = os.path.join(path, item)\n",
    "    if os.path.isfile(item_path):\n",
    "        im = Image.open(item_path)\n",
    "        x= np.array(im)\n",
    "        arr.append(x)                \n",
    "\n",
    "# save to npz file\n",
    "savez_compressed('./index-original.npz', data = np.array(arr))"
   ]
  },
  {
   "cell_type": "code",
   "execution_count": 13,
   "id": "90832b21",
   "metadata": {},
   "outputs": [
    {
     "data": {
      "text/plain": [
       "(9222, 80, 80)"
      ]
     },
     "execution_count": 13,
     "metadata": {},
     "output_type": "execute_result"
    }
   ],
   "source": [
    "np.array(arr).shape"
   ]
  },
  {
   "cell_type": "code",
   "execution_count": 23,
   "id": "6e295d9c",
   "metadata": {},
   "outputs": [],
   "source": [
    "\n",
    "# load numpy array from npz file\n",
    "from numpy import load\n",
    "# load dict of arrays\n",
    "data = load('./index-original.npz')\n"
   ]
  },
  {
   "cell_type": "code",
   "execution_count": 24,
   "id": "0314be9b",
   "metadata": {},
   "outputs": [
    {
     "data": {
      "text/plain": [
       "(9222, 80, 80)"
      ]
     },
     "execution_count": 24,
     "metadata": {},
     "output_type": "execute_result"
    }
   ],
   "source": [
    "data['data'].shape"
   ]
  },
  {
   "cell_type": "code",
   "execution_count": 40,
   "id": "b8b69f9d",
   "metadata": {},
   "outputs": [],
   "source": [
    "\n",
    "# load numpy array from npz file\n",
    "\n",
    "# load dict of arrays\n",
    "dict_data = load('./index-original.npz')\n",
    "# extract the first array\n",
    "data = dict_data['data']\n",
    "# print the array\n",
    "print(data[0].shape)"
   ]
  },
  {
   "cell_type": "code",
   "execution_count": 27,
   "id": "4c5050a7",
   "metadata": {},
   "outputs": [
    {
     "data": {
      "image/png": "[encoded data removed]",
      "text/plain": [
       "<Figure size 432x288 with 1 Axes>"
      ]
     },
     "metadata": {
      "needs_background": "light"
     },
     "output_type": "display_data"
    }
   ],
   "source": [
    "from matplotlib import pyplot as plt\n",
    "plt.imshow(data[0], interpolation='nearest')\n",
    "plt.show()"
   ]
  },
  {
   "cell_type": "markdown",
   "id": "950a5889",
   "metadata": {},
   "source": [
    "### Generate Labels from CSV and save it as npy file"
   ]
  },
  {
   "cell_type": "code",
   "execution_count": 34,
   "id": "eabe0763",
   "metadata": {},
   "outputs": [],
   "source": [
    "\n",
    "labels = pd.read_csv('./labels.csv')\n",
    "\n",
    "classes  = labels['breed'].unique()\n",
    "classes_dict = {}\n",
    "for i in range(len(classes)):\n",
    "    classes_dict[classes[i]] = i"
   ]
  },
  {
   "cell_type": "code",
   "execution_count": 35,
   "id": "8f893659",
   "metadata": {},
   "outputs": [
    {
     "data": {
      "text/plain": [
       "{'boston_bull': 0,\n",
       " 'dingo': 1,\n",
       " 'pekinese': 2,\n",
       " 'bluetick': 3,\n",
       " 'golden_retriever': 4,\n",
       " 'bedlington_terrier': 5,\n",
       " 'borzoi': 6,\n",
       " 'basenji': 7,\n",
       " 'scottish_deerhound': 8,\n",
       " 'shetland_sheepdog': 9,\n",
       " 'walker_hound': 10,\n",
       " 'maltese_dog': 11,\n",
       " 'norfolk_terrier': 12,\n",
       " 'african_hunting_dog': 13,\n",
       " 'wire-haired_fox_terrier': 14,\n",
       " 'redbone': 15,\n",
       " 'lakeland_terrier': 16,\n",
       " 'boxer': 17,\n",
       " 'doberman': 18,\n",
       " 'otterhound': 19,\n",
       " 'standard_schnauzer': 20,\n",
       " 'irish_water_spaniel': 21,\n",
       " 'black-and-tan_coonhound': 22,\n",
       " 'cairn': 23,\n",
       " 'affenpinscher': 24,\n",
       " 'labrador_retriever': 25,\n",
       " 'ibizan_hound': 26,\n",
       " 'english_setter': 27,\n",
       " 'weimaraner': 28,\n",
       " 'giant_schnauzer': 29,\n",
       " 'groenendael': 30,\n",
       " 'dhole': 31,\n",
       " 'toy_poodle': 32,\n",
       " 'border_terrier': 33,\n",
       " 'tibetan_terrier': 34,\n",
       " 'norwegian_elkhound': 35,\n",
       " 'shih-tzu': 36,\n",
       " 'irish_terrier': 37,\n",
       " 'kuvasz': 38,\n",
       " 'german_shepherd': 39,\n",
       " 'greater_swiss_mountain_dog': 40,\n",
       " 'basset': 41,\n",
       " 'australian_terrier': 42,\n",
       " 'schipperke': 43,\n",
       " 'rhodesian_ridgeback': 44,\n",
       " 'irish_setter': 45,\n",
       " 'appenzeller': 46,\n",
       " 'bloodhound': 47,\n",
       " 'samoyed': 48,\n",
       " 'miniature_schnauzer': 49,\n",
       " 'brittany_spaniel': 50,\n",
       " 'kelpie': 51,\n",
       " 'papillon': 52,\n",
       " 'border_collie': 53,\n",
       " 'entlebucher': 54,\n",
       " 'collie': 55,\n",
       " 'malamute': 56,\n",
       " 'welsh_springer_spaniel': 57,\n",
       " 'chihuahua': 58,\n",
       " 'saluki': 59,\n",
       " 'pug': 60,\n",
       " 'malinois': 61,\n",
       " 'komondor': 62,\n",
       " 'airedale': 63,\n",
       " 'leonberg': 64,\n",
       " 'mexican_hairless': 65,\n",
       " 'bull_mastiff': 66,\n",
       " 'bernese_mountain_dog': 67,\n",
       " 'american_staffordshire_terrier': 68,\n",
       " 'lhasa': 69,\n",
       " 'cardigan': 70,\n",
       " 'italian_greyhound': 71,\n",
       " 'clumber': 72,\n",
       " 'scotch_terrier': 73,\n",
       " 'afghan_hound': 74,\n",
       " 'old_english_sheepdog': 75,\n",
       " 'saint_bernard': 76,\n",
       " 'miniature_pinscher': 77,\n",
       " 'eskimo_dog': 78,\n",
       " 'irish_wolfhound': 79,\n",
       " 'brabancon_griffon': 80,\n",
       " 'toy_terrier': 81,\n",
       " 'chow': 82,\n",
       " 'flat-coated_retriever': 83,\n",
       " 'norwich_terrier': 84,\n",
       " 'soft-coated_wheaten_terrier': 85,\n",
       " 'staffordshire_bullterrier': 86,\n",
       " 'english_foxhound': 87,\n",
       " 'gordon_setter': 88,\n",
       " 'siberian_husky': 89,\n",
       " 'newfoundland': 90,\n",
       " 'briard': 91,\n",
       " 'chesapeake_bay_retriever': 92,\n",
       " 'dandie_dinmont': 93,\n",
       " 'great_pyrenees': 94,\n",
       " 'beagle': 95,\n",
       " 'vizsla': 96,\n",
       " 'west_highland_white_terrier': 97,\n",
       " 'kerry_blue_terrier': 98,\n",
       " 'whippet': 99,\n",
       " 'sealyham_terrier': 100,\n",
       " 'standard_poodle': 101,\n",
       " 'keeshond': 102,\n",
       " 'japanese_spaniel': 103,\n",
       " 'miniature_poodle': 104,\n",
       " 'pomeranian': 105,\n",
       " 'curly-coated_retriever': 106,\n",
       " 'yorkshire_terrier': 107,\n",
       " 'pembroke': 108,\n",
       " 'great_dane': 109,\n",
       " 'blenheim_spaniel': 110,\n",
       " 'silky_terrier': 111,\n",
       " 'sussex_spaniel': 112,\n",
       " 'german_short-haired_pointer': 113,\n",
       " 'french_bulldog': 114,\n",
       " 'bouvier_des_flandres': 115,\n",
       " 'tibetan_mastiff': 116,\n",
       " 'english_springer': 117,\n",
       " 'cocker_spaniel': 118,\n",
       " 'rottweiler': 119}"
      ]
     },
     "execution_count": 35,
     "metadata": {},
     "output_type": "execute_result"
    }
   ],
   "source": [
    "classes_dict"
   ]
  },
  {
   "cell_type": "code",
   "execution_count": 36,
   "id": "6b440777",
   "metadata": {},
   "outputs": [],
   "source": [
    "# see the images in train folder and then see it from csv, see its class and save the list as np array on disk with \n",
    "# its name\n",
    "\n",
    "path = \"./train\"\n",
    "dirs = os.listdir( path )\n",
    "arr = []\n",
    "\n",
    "labels = pd.read_csv('./labels.csv')\n",
    "for item in dirs:\n",
    "    item_path = os.path.join(path, item)\n",
    "    if os.path.isfile(item_path):\n",
    "        item = item.split('.jpg')[0]        \n",
    "        x = labels[labels['id'] == item]['breed']\n",
    "        x= x.values[0]\n",
    "        arr.append(classes_dict[x])        \n",
    "\n",
    "        \n",
    "# define data\n",
    "# save to npy file\n",
    "savez_compressed('./train-labels.npz', data = np.array(arr))"
   ]
  },
  {
   "cell_type": "code",
   "execution_count": 38,
   "id": "4018e375",
   "metadata": {},
   "outputs": [],
   "source": [
    "dict_data = load('./query-labels.npz')\n",
    "# extract the first array\n",
    "data = dict_data['data']"
   ]
  },
  {
   "cell_type": "code",
   "execution_count": 39,
   "id": "2c4d8760",
   "metadata": {},
   "outputs": [
    {
     "data": {
      "text/plain": [
       "97"
      ]
     },
     "execution_count": 39,
     "metadata": {},
     "output_type": "execute_result"
    }
   ],
   "source": [
    "data[0]"
   ]
  },
  {
   "cell_type": "code",
   "execution_count": null,
   "id": "95402440",
   "metadata": {},
   "outputs": [],
   "source": []
  }
 ],
 "metadata": {
  "kernelspec": {
   "display_name": "Python 3 (ipykernel)",
   "language": "python",
   "name": "python3"
  },
  "language_info": {
   "codemirror_mode": {
    "name": "ipython",
    "version": 3
   },
   "file_extension": ".py",
   "mimetype": "text/x-python",
   "name": "python",
   "nbconvert_exporter": "python",
   "pygments_lexer": "ipython3",
   "version": "3.9.7"
  }
 },
 "nbformat": 4,
 "nbformat_minor": 5
}
